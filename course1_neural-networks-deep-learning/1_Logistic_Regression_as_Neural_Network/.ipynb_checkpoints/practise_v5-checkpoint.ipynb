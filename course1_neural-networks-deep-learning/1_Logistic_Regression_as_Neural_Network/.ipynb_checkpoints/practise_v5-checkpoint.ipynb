{
 "cells": [
  {
   "cell_type": "markdown",
   "metadata": {},
   "source": [
    "## Step1.  import libraries\n"
   ]
  },
  {
   "cell_type": "code",
   "execution_count": 1,
   "metadata": {},
   "outputs": [],
   "source": [
    "import numpy as np\n",
    "import matplotlib.pyplot as plt\n",
    "import h5py"
   ]
  },
  {
   "cell_type": "markdown",
   "metadata": {},
   "source": [
    "## Step 2. upload datasets"
   ]
  },
  {
   "cell_type": "code",
   "execution_count": 2,
   "metadata": {},
   "outputs": [],
   "source": [
    "def upload_dataset():\n",
    "    ### Trainnig datasets\n",
    "    training_h5file = h5py.File('datasets/train_catvnoncat.h5', 'r')\n",
    "    train_data = np.array(training_h5file['train_set_x'])\n",
    "    train_y = np.array(training_h5file['train_set_y'])\n",
    "    labels = np.array(training_h5file['list_classes'])\n",
    "\n",
    "    #### Testing datasets\n",
    "    test_h5file = h5py.File('datasets/test_catvnoncat.h5', 'r')\n",
    "    test_data = np.array(test_h5file['test_set_x'])\n",
    "    test_y = np.array(test_h5file['test_set_y'])\n",
    "\n",
    "    ### As labels has shape (n,), we would like to change it to (1, n)\n",
    "    train_y = train_y.reshape((1, train_y.shape[0]))\n",
    "    test_y = test_y.reshape((1, test_y.shape[0]))\n",
    "\n",
    "    return train_data, train_y, test_data, test_y, labels"
   ]
  },
  {
   "cell_type": "code",
   "execution_count": 3,
   "metadata": {},
   "outputs": [],
   "source": [
    "train_data, train_y, test_data, test_y, labels = upload_dataset()"
   ]
  },
  {
   "cell_type": "markdown",
   "metadata": {},
   "source": [
    "## Step3. Data Exploration"
   ]
  },
  {
   "cell_type": "code",
   "execution_count": 4,
   "metadata": {},
   "outputs": [
    {
     "name": "stdout",
     "output_type": "stream",
     "text": [
      "train : (209, 64, 64, 3)\n",
      "train_y : (1, 209)\n",
      "test : (50, 64, 64, 3)\n",
      "test_y : (1, 50)\n"
     ]
    }
   ],
   "source": [
    "## Lets check the data to get the feeling of the stucture of the dataset\n",
    "print('train :',train_data.shape)\n",
    "print('train_y :', train_y.shape)\n",
    "print('test :',test_data.shape)\n",
    "print('test_y :', test_y.shape)\n",
    "\n",
    "### Summary, there are 209 train images of 64x64x3 and 50 test images"
   ]
  },
  {
   "cell_type": "code",
   "execution_count": 5,
   "metadata": {},
   "outputs": [
    {
     "data": {
      "text/plain": [
       "array([b'non-cat', b'cat'], dtype='|S7')"
      ]
     },
     "execution_count": 5,
     "metadata": {},
     "output_type": "execute_result"
    }
   ],
   "source": [
    "labels"
   ]
  },
  {
   "cell_type": "code",
   "execution_count": 6,
   "metadata": {},
   "outputs": [
    {
     "name": "stdout",
     "output_type": "stream",
     "text": [
      "image is of : non-cat\n"
     ]
    },
    {
     "data": {
      "image/png": "[encoded data removed]",
      "text/plain": [
       "<Figure size 432x288 with 1 Axes>"
      ]
     },
     "metadata": {
      "needs_background": "light"
     },
     "output_type": "display_data"
    }
   ],
   "source": [
    "## Lets check the images\n",
    "indx =202\n",
    "plt.imshow(train_data[indx,:,:,:])\n",
    "\n",
    "print('image is of :', labels[np.squeeze(train_y[:,indx])].decode('utf-8'))"
   ]
  },
  {
   "cell_type": "markdown",
   "metadata": {},
   "source": [
    "## Step 4. Data Preprocessing"
   ]
  },
  {
   "cell_type": "code",
   "execution_count": 7,
   "metadata": {},
   "outputs": [
    {
     "name": "stdout",
     "output_type": "stream",
     "text": [
      "train flatten has shape : (12288, 209)\n",
      "test flatten has shape : (12288, 50)\n"
     ]
    }
   ],
   "source": [
    "## Reshape the training and test example, we want to have the train[64*64*3, m],\n",
    "train_flatten = train_data.reshape((train_data.shape[0], -1)).T\n",
    "test_flatten = test_data.reshape((test_data.shape[0], -1)).T\n",
    "\n",
    "## lets confirm their reshaped shapes\n",
    "print('train flatten has shape :', train_flatten.shape)\n",
    "print('test flatten has shape :', test_flatten.shape)"
   ]
  },
  {
   "cell_type": "code",
   "execution_count": 8,
   "metadata": {},
   "outputs": [],
   "source": [
    "## lets normalize the datasets, an important step for dealing with the image datasets\n",
    "train_norm = train_flatten/255.\n",
    "test_norm = test_flatten/255."
   ]
  },
  {
   "cell_type": "markdown",
   "metadata": {},
   "source": [
    "## Step 5. Model Building "
   ]
  },
  {
   "cell_type": "code",
   "execution_count": 9,
   "metadata": {},
   "outputs": [],
   "source": [
    "def parameter_initialization(dim):\n",
    "    w = np.zeros((dim,1))\n",
    "    b= 0\n",
    "    \n",
    "    assert(w.shape == (dim,1))\n",
    "    return w,b"
   ]
  },
  {
   "cell_type": "code",
   "execution_count": 10,
   "metadata": {},
   "outputs": [],
   "source": [
    "def sigmoid(z):\n",
    "    return (1/(1+ np.exp(-z)))"
   ]
  },
  {
   "cell_type": "code",
   "execution_count": 11,
   "metadata": {},
   "outputs": [],
   "source": [
    "def forward_propagation(w,b, m, X, y):    \n",
    "    assert(w.shape==(X.shape[0],1))\n",
    "    \n",
    "    z = np.dot(w.T,X) + b\n",
    "    A = sigmoid(z)\n",
    "    assert(A.shape==y.shape)\n",
    "    \n",
    "    ## lets calculate the cost function\n",
    "    J = -1/m * (np.dot(y, np.log(A).T) + np.dot((1-y), np.log(1-A).T))\n",
    "    cost = np.squeeze(J)\n",
    "\n",
    "    assert(cost.shape==())  \n",
    "    \n",
    "    return A, cost"
   ]
  },
  {
   "cell_type": "code",
   "execution_count": 12,
   "metadata": {},
   "outputs": [],
   "source": [
    "def backward_propagation(w, b, m, X, y, A, learning_rate):\n",
    "    \n",
    "    ## lets calculate the dz first\n",
    "    dz = A - y\n",
    "    assert(dz.shape == A.shape == y.shape)\n",
    "    \n",
    "    ## lets calculate the dw, db\n",
    "    dw = 1/m * np.dot(X, dz.T)\n",
    "    db = 1/m * np.sum(dz)\n",
    "    \n",
    "    assert(dw.shape ==w.shape)\n",
    "    assert(isinstance(db, float))\n",
    "    \n",
    "    ## lets calculate the modified w,b\n",
    "    w = w - learning_rate * dw\n",
    "    b = b - learning_rate * db\n",
    "    \n",
    "    \n",
    "    mod_param = {\n",
    "        \"w\":w,\n",
    "        \"b\":b\n",
    "    }\n",
    "    \n",
    "    return mod_param    "
   ]
  },
  {
   "cell_type": "code",
   "execution_count": 13,
   "metadata": {},
   "outputs": [],
   "source": [
    "def optimize_lreg(X, y, learning_rate, no_iteration, debug=False):\n",
    "    dim = X.shape[0]\n",
    "    m =  X.shape[1]\n",
    "    \n",
    "    if debug:\n",
    "        print('X.shape: ', X.shape,'dim :', dim, ' m:', m)\n",
    "        \n",
    "    ## lets first initialize the parameters\n",
    "    w, b = parameter_initialization(dim)\n",
    "    \n",
    "    if(debug):\n",
    "        print('w.shape :',w.shape)\n",
    "    \n",
    "    costs = []\n",
    "    \n",
    "    ## lets calculate the gradiant descent and optimize the cost\n",
    "    for i in range(no_iteration):\n",
    "\n",
    "        A, cost = forward_propagation(w, b, m, X, y)\n",
    "        if i % 100 == 0:\n",
    "            costs.append(cost)\n",
    "            if(debug):\n",
    "                print(\"cost after iteration %i : %f\" %(i, cost))\n",
    "            \n",
    "        mod_param= backward_propagation(w, b, m, X, y, A, learning_rate)\n",
    "        w = mod_param['w']\n",
    "        b = mod_param['b']\n",
    "        \n",
    "        \n",
    "    cache = {\n",
    "      'w':w,\n",
    "      'b':b\n",
    "    }\n",
    "        \n",
    "    return costs, cache        "
   ]
  },
  {
   "cell_type": "code",
   "execution_count": 14,
   "metadata": {},
   "outputs": [],
   "source": [
    "def predict(w, b, X):\n",
    "    \n",
    "    A = sigmoid(np.dot(w.T, X) + b)\n",
    "\n",
    "    predict = np.zeros((1, X.shape[1]))\n",
    "    \n",
    "    for i in range(X.shape[1]):\n",
    "        predict[:,i] = np.where(A[:,i]> 0.5, 1, 0)\n",
    "        \n",
    "    #assert(predict.shape == (X.shape[0], 1))\n",
    "    return predict   "
   ]
  },
  {
   "cell_type": "code",
   "execution_count": 15,
   "metadata": {},
   "outputs": [],
   "source": [
    "def calculate_accuracy(Y_predicted, Y_original):\n",
    "    ## lets calculate the accuracy\n",
    "    assert(Y_predicted.shape == Y_original.shape)\n",
    "    \n",
    "    accuracy = (100 - np.sum(np.abs(Y_predicted - Y_original))/Y_original.shape[1] * 100)\n",
    "    assert(isinstance(accuracy, float))\n",
    "    \n",
    "    return accuracy    "
   ]
  },
  {
   "cell_type": "code",
   "execution_count": 16,
   "metadata": {},
   "outputs": [],
   "source": [
    "def model(train, train_y, test, test_y, learning_rate, no_iteration, debug=False):\n",
    "    costs, cache = optimize_lreg(train, train_y, learning_rate, no_iteration, debug=debug)\n",
    "    w=cache['w']\n",
    "    b=cache['b']\n",
    "    \n",
    "    ### train dataset\n",
    "    train_predict = predict(w, b, train)\n",
    "    train_accuracy = calculate_accuracy(train_predict, train_y)\n",
    "    \n",
    "    print('train has accuracy :', train_accuracy)\n",
    "    \n",
    "    ### test dataset\n",
    "    test_predict = predict(w, b, test)\n",
    "    test_accuracy = calculate_accuracy(test_predict, test_y)\n",
    "    print('test has accuracy :', test_accuracy)\n",
    "    \n",
    "    parameter = {\n",
    "        'cost' : costs,\n",
    "        'Y_prediction_train':train_predict,\n",
    "        'Y_prediction_test' :test_predict,\n",
    "        'learning_rate':learning_rate,\n",
    "        'no_iteration': no_iteration\n",
    "    }\n",
    "    \n",
    "    return parameter"
   ]
  },
  {
   "cell_type": "markdown",
   "metadata": {},
   "source": [
    "## Step 6. Run the model "
   ]
  },
  {
   "cell_type": "code",
   "execution_count": 17,
   "metadata": {},
   "outputs": [
    {
     "name": "stdout",
     "output_type": "stream",
     "text": [
      "cost after iteration 0 : 0.693147\n",
      "cost after iteration 100 : 0.584508\n",
      "cost after iteration 200 : 0.466949\n",
      "cost after iteration 300 : 0.376007\n",
      "cost after iteration 400 : 0.331463\n",
      "cost after iteration 500 : 0.303273\n",
      "cost after iteration 600 : 0.279880\n",
      "cost after iteration 700 : 0.260042\n",
      "cost after iteration 800 : 0.242941\n",
      "cost after iteration 900 : 0.228004\n",
      "cost after iteration 1000 : 0.214820\n",
      "cost after iteration 1100 : 0.203078\n",
      "cost after iteration 1200 : 0.192544\n",
      "cost after iteration 1300 : 0.183033\n",
      "cost after iteration 1400 : 0.174399\n",
      "cost after iteration 1500 : 0.166521\n",
      "cost after iteration 1600 : 0.159305\n",
      "cost after iteration 1700 : 0.152667\n",
      "cost after iteration 1800 : 0.146542\n",
      "cost after iteration 1900 : 0.140872\n",
      "train has accuracy : 99.04306220095694\n",
      "test has accuracy : 70.0\n"
     ]
    }
   ],
   "source": [
    "param = model(train_norm, train_y, test_norm, test_y, learning_rate=0.005, no_iteration=2000, debug=False)"
   ]
  },
  {
   "cell_type": "markdown",
   "metadata": {},
   "source": [
    "## Step 7. Ploting"
   ]
  },
  {
   "cell_type": "code",
   "execution_count": 18,
   "metadata": {},
   "outputs": [
    {
     "data": {
      "image/png": "[encoded data removed]",
      "text/plain": [
       "<Figure size 432x288 with 1 Axes>"
      ]
     },
     "metadata": {
      "needs_background": "light"
     },
     "output_type": "display_data"
    }
   ],
   "source": [
    "## lets plot the no_of_iteration vs cost function\n",
    "costs = np.squeeze(param['cost'])\n",
    "plt.plot(costs)\n",
    "plt.ylabel('cost')\n",
    "plt.xlabel('iterations (per hundreds)')\n",
    "plt.title(\"Learning rate =\" + str(param[\"learning_rate\"]))\n",
    "plt.show()"
   ]
  },
  {
   "cell_type": "code",
   "execution_count": null,
   "metadata": {},
   "outputs": [],
   "source": []
  }
 ],
 "metadata": {
  "kernelspec": {
   "display_name": "Python 3",
   "language": "python",
   "name": "python3"
  },
  "language_info": {
   "codemirror_mode": {
    "name": "ipython",
    "version": 3
   },
   "file_extension": ".py",
   "mimetype": "text/x-python",
   "name": "python",
   "nbconvert_exporter": "python",
   "pygments_lexer": "ipython3",
   "version": "3.5.2"
  }
 },
 "nbformat": 4,
 "nbformat_minor": 2
}
