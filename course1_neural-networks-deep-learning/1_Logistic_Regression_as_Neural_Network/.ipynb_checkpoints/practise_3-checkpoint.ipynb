{
 "cells": [
  {
   "cell_type": "code",
   "execution_count": 16,
   "metadata": {},
   "outputs": [],
   "source": [
    "## Lets call the libraries\n",
    "import numpy as np\n",
    "import matplotlib.pyplot as plt\n",
    "import h5py\n",
    "from matplotlib import image"
   ]
  },
  {
   "cell_type": "code",
   "execution_count": 11,
   "metadata": {},
   "outputs": [
    {
     "data": {
      "text/plain": [
       "numpy.ndarray"
      ]
     },
     "execution_count": 11,
     "metadata": {},
     "output_type": "execute_result"
    }
   ],
   "source": [
    "train_data = h5py.File('datasets/train_catvnoncat.h5', 'r')\n",
    "train_data.keys()\n",
    "classes = np.array(train_data['list_classes'])\n",
    "type(classes)"
   ]
  },
  {
   "cell_type": "code",
   "execution_count": 27,
   "metadata": {},
   "outputs": [],
   "source": [
    "def upload_data():\n",
    "    train_data = h5py.File('datasets/train_catvnoncat.h5', 'r')\n",
    "    train_x_original = np.array(train_data['train_set_x'][:])\n",
    "    train_y_original = np.array(train_data['train_set_y'][:])\n",
    "    \n",
    "    test_data = h5py.File('datasets/test_catvnoncat.h5', 'r')\n",
    "    test_x_original = np.array(test_data['test_set_x'][:])\n",
    "    test_y_original = np.array(test_data['test_set_y'][:])\n",
    "    \n",
    "    classes = np.array(test_data['list_classes'][:]) \n",
    "    \n",
    "    ## lets reshape the y labels, as they are of shape (m,)\n",
    "    train_y_original = train_y_original.reshape((1, train_y_original.shape[0]))\n",
    "    test_y_original = test_y_original.reshape((1, test_y_original.shape[0]))\n",
    "\n",
    "    \n",
    "    return train_x_original,train_y_original,test_x_original,test_y_original,classes    "
   ]
  },
  {
   "cell_type": "code",
   "execution_count": 28,
   "metadata": {},
   "outputs": [],
   "source": [
    "train_x_original,train_y_original,test_x_original,test_y_original,classes = upload_data()"
   ]
  },
  {
   "cell_type": "code",
   "execution_count": 31,
   "metadata": {},
   "outputs": [
    {
     "name": "stdout",
     "output_type": "stream",
     "text": [
      "train_x has shape: (209, 64, 64, 3)\n",
      "train has labels : (1, 209)\n",
      "test_x has shape: (50, 64, 64, 3)\n",
      "test has labels : (1, 50)\n",
      "classes has : (2,)\n"
     ]
    }
   ],
   "source": [
    "## lets check the datasets\n",
    "print('train_x has shape:',train_x_original.shape) \n",
    "print('train has labels :', train_y_original.shape)\n",
    "\n",
    "print('test_x has shape:', test_x_original.shape)\n",
    "print('test has labels :', test_y_original.shape)\n",
    "\n",
    "print('classes has :', classes.shape)"
   ]
  },
  {
   "cell_type": "code",
   "execution_count": 61,
   "metadata": {},
   "outputs": [
    {
     "name": "stdout",
     "output_type": "stream",
     "text": [
      "the image shown of indx 19 is of cat\n"
     ]
    },
    {
     "data": {
      "image/png": "[encoded data removed]",
      "text/plain": [
       "<Figure size 432x288 with 1 Axes>"
      ]
     },
     "metadata": {
      "needs_background": "light"
     },
     "output_type": "display_data"
    }
   ],
   "source": [
    "## lets check one of the few pictures\n",
    "indx=19\n",
    "plt.imshow(train_x_original[indx,:])\n",
    "\n",
    "print('the image shown of indx', indx, 'is of',classes[np.squeeze(train_y_original[:,indx])].decode('utf-8'))"
   ]
  },
  {
   "cell_type": "code",
   "execution_count": 67,
   "metadata": {},
   "outputs": [],
   "source": [
    "## Lets flatten the X, ie make it of the shape (nx*ny*nz, m)\n",
    "train_x_flatten = train_x_original.reshape((train_x_original.shape[0], -1)).T\n",
    "test_x_flatten = test_x_original.reshape((test_x_original.shape[0], -1)).T"
   ]
  },
  {
   "cell_type": "code",
   "execution_count": 70,
   "metadata": {},
   "outputs": [],
   "source": [
    "## lets normalize, ie divide it by 255\n",
    "train_x = train_x_flatten/255.\n",
    "test_x = test_x_flatten/255.\n",
    "\n",
    "#print(train_x[1,:])"
   ]
  },
  {
   "cell_type": "code",
   "execution_count": 87,
   "metadata": {},
   "outputs": [],
   "source": [
    "## As we checked the image dataset, lets try to proceed with writing the code,\n",
    "## firsty lets initialize the parameters, W, b\n",
    "\n",
    "def initialize_with_zeros(dim):\n",
    "    \n",
    "    W = np.zeros((dim,1))\n",
    "    b = 0\n",
    "    \n",
    "    assert(W.shape==(dim,1))\n",
    "    assert(isinstance(b, float) or isinstance(b, int))\n",
    "    return W, b"
   ]
  },
  {
   "cell_type": "code",
   "execution_count": 53,
   "metadata": {},
   "outputs": [],
   "source": [
    "def sigmoid(z):\n",
    "    return (1/(1+ np.exp(-z)))"
   ]
  },
  {
   "cell_type": "code",
   "execution_count": 159,
   "metadata": {},
   "outputs": [],
   "source": [
    "def propagate(w, b, X, Y):\n",
    "    \n",
    "    m = X.shape[0]\n",
    "\n",
    "    ## forward papagation\n",
    "    A = sigmoid(np.dot(w.T, X) + b)    \n",
    "    cost = -1/m*(np.dot(Y, np.log(A).T) + np.dot(1-Y, np.log(1-A).T))\n",
    "    \n",
    "    cost = np.squeeze(cost)\n",
    "    assert(cost.shape==())\n",
    "   \n",
    "    ## backward propagation\n",
    "    dZ = A - Y\n",
    "    \n",
    "    dw = 1/m * np.dot(X, dZ.T)\n",
    "    db = 1/m * ( np.sum(dZ))\n",
    "    \n",
    "    assert(dZ.shape==A.shape==Y.shape)\n",
    "    assert(dw.shape==w.shape)\n",
    "    assert(isinstance(db, float))\n",
    "    \n",
    "    grads = {\n",
    "        \"dw\":dw,\n",
    "        \"db\":db\n",
    "    }\n",
    "    \n",
    "    return grads, cost"
   ]
  },
  {
   "cell_type": "code",
   "execution_count": 164,
   "metadata": {},
   "outputs": [],
   "source": [
    "def optimize(w, b, X, Y, no_of_iteration, learning_rate, print_cost=False):\n",
    "        \n",
    "    ## lets create a costs array for keeping the values\n",
    "    costs = []\n",
    "    \n",
    "    for i in range(no_of_iteration):\n",
    "        grads, cost = propagate(w, b, X, Y)\n",
    "        dw = grads['dw']\n",
    "        db = grads['db']\n",
    "            \n",
    "        w = w - learning_rate * dw\n",
    "        b = b - learning_rate * db\n",
    "\n",
    "            \n",
    "        if cost % 100 == 0:\n",
    "            costs.append(cost)\n",
    "            \n",
    "        if print_cost and i %100==0:\n",
    "            print('Cost after iteration %i: %f' %(i, cost))\n",
    "        \n",
    "    params={\n",
    "        'w':w,\n",
    "        'b':b}\n",
    "    \n",
    "    grads={'dw':dw,\n",
    "          'db':db}\n",
    "    \n",
    "    return params, grads, costs"
   ]
  },
  {
   "cell_type": "code",
   "execution_count": 171,
   "metadata": {},
   "outputs": [],
   "source": [
    "def predict(w, b, X):\n",
    "    \n",
    "    Z = np.dot(w.T, X) + b\n",
    "    A = sigmoid(Z)\n",
    "    \n",
    "    y_prediction = np.zeros((1, X.shape[1]))\n",
    "    \n",
    "    \n",
    "    for i in range(A.shape[1]):\n",
    "        y_prediction[:,i] = np.where(A.shape[0]> 0.5, 1, 0)\n",
    "    \n",
    "    assert(y_prediction.shape==(1, X.shape[1]))\n",
    "    \n",
    "    return y_prediction"
   ]
  },
  {
   "cell_type": "code",
   "execution_count": 172,
   "metadata": {},
   "outputs": [],
   "source": [
    "def model_lg(X_train, y_train, X_test, y_test, no_of_iteration= 2000, learning_rate=0.05, print_cost=False):\n",
    "    \n",
    "        dim = X_train.shape[0]\n",
    "\n",
    "        # step 1. initlaize the w,b\n",
    "        w, b= initialize_with_zeros(dim)\n",
    "        \n",
    "        # step 2. lets optimize\n",
    "        parameter, grads, costs = optimize(w, b, X_train, y_train, no_of_iteration=no_of_iteration, learning_rate=learning_rate, print_cost=False)\n",
    "        \n",
    "        w=parameter['w']\n",
    "        b=parameter['b']\n",
    "        \n",
    "        ## step 3. predict train/test Errors\n",
    "        y_prediciton_train = predict(w, b, X_train)\n",
    "        y_prediciton_test = predict(w, b, X_test)\n",
    "        \n",
    "        ## step 4. print test/train Accuracy\n",
    "        print(\"train accuracy is : {} %\".format(100 - np.mean(y_prediciton_train - y_train))* 100)\n",
    "        print(\"test accuracy is : {} %\".format(100- np.mean(y_prediciton_test - y_test))* 100)\n",
    "        \n",
    "        d = {\"costs\":costs,\n",
    "             \"y_predicted_test\": y_prediciton_test,\n",
    "             \"y_predicted_train\": y_prediciton_train,\n",
    "             \"w\": w,\n",
    "             \"b\":b,\n",
    "             \"learning_rate\":learning_rate,\n",
    "             \"num_iterations\":no_of_iteration\n",
    "        }\n",
    "        \n",
    "        return d"
   ]
  },
  {
   "cell_type": "code",
   "execution_count": 173,
   "metadata": {},
   "outputs": [
    {
     "name": "stdout",
     "output_type": "stream",
     "text": [
      "train accuracy is : 99.3444976076555 %train accuracy is : 99.3444976076555 %train accuracy is : 99.3444976076555 %train accuracy is : 99.3444976076555 %train accuracy is : 99.3444976076555 %train accuracy is : 99.3444976076555 %train accuracy is : 99.3444976076555 %train accuracy is : 99.3444976076555 %train accuracy is : 99.3444976076555 %train accuracy is : 99.3444976076555 %train accuracy is : 99.3444976076555 %train accuracy is : 99.3444976076555 %train accuracy is : 99.3444976076555 %train accuracy is : 99.3444976076555 %train accuracy is : 99.3444976076555 %train accuracy is : 99.3444976076555 %train accuracy is : 99.3444976076555 %train accuracy is : 99.3444976076555 %train accuracy is : 99.3444976076555 %train accuracy is : 99.3444976076555 %train accuracy is : 99.3444976076555 %train accuracy is : 99.3444976076555 %train accuracy is : 99.3444976076555 %train accuracy is : 99.3444976076555 %train accuracy is : 99.3444976076555 %train accuracy is : 99.3444976076555 %train accuracy is : 99.3444976076555 %train accuracy is : 99.3444976076555 %train accuracy is : 99.3444976076555 %train accuracy is : 99.3444976076555 %train accuracy is : 99.3444976076555 %train accuracy is : 99.3444976076555 %train accuracy is : 99.3444976076555 %train accuracy is : 99.3444976076555 %train accuracy is : 99.3444976076555 %train accuracy is : 99.3444976076555 %train accuracy is : 99.3444976076555 %train accuracy is : 99.3444976076555 %train accuracy is : 99.3444976076555 %train accuracy is : 99.3444976076555 %train accuracy is : 99.3444976076555 %train accuracy is : 99.3444976076555 %train accuracy is : 99.3444976076555 %train accuracy is : 99.3444976076555 %train accuracy is : 99.3444976076555 %train accuracy is : 99.3444976076555 %train accuracy is : 99.3444976076555 %train accuracy is : 99.3444976076555 %train accuracy is : 99.3444976076555 %train accuracy is : 99.3444976076555 %train accuracy is : 99.3444976076555 %train accuracy is : 99.3444976076555 %train accuracy is : 99.3444976076555 %train accuracy is : 99.3444976076555 %train accuracy is : 99.3444976076555 %train accuracy is : 99.3444976076555 %train accuracy is : 99.3444976076555 %train accuracy is : 99.3444976076555 %train accuracy is : 99.3444976076555 %train accuracy is : 99.3444976076555 %train accuracy is : 99.3444976076555 %train accuracy is : 99.3444976076555 %train accuracy is : 99.3444976076555 %train accuracy is : 99.3444976076555 %train accuracy is : 99.3444976076555 %train accuracy is : 99.3444976076555 %train accuracy is : 99.3444976076555 %train accuracy is : 99.3444976076555 %train accuracy is : 99.3444976076555 %train accuracy is : 99.3444976076555 %train accuracy is : 99.3444976076555 %train accuracy is : 99.3444976076555 %train accuracy is : 99.3444976076555 %train accuracy is : 99.3444976076555 %train accuracy is : 99.3444976076555 %train accuracy is : 99.3444976076555 %train accuracy is : 99.3444976076555 %train accuracy is : 99.3444976076555 %train accuracy is : 99.3444976076555 %train accuracy is : 99.3444976076555 %train accuracy is : 99.3444976076555 %train accuracy is : 99.3444976076555 %train accuracy is : 99.3444976076555 %train accuracy is : 99.3444976076555 %train accuracy is : 99.3444976076555 %train accuracy is : 99.3444976076555 %train accuracy is : 99.3444976076555 %train accuracy is : 99.3444976076555 %train accuracy is : 99.3444976076555 %train accuracy is : 99.3444976076555 %train accuracy is : 99.3444976076555 %train accuracy is : 99.3444976076555 %train accuracy is : 99.3444976076555 %train accuracy is : 99.3444976076555 %train accuracy is : 99.3444976076555 %train accuracy is : 99.3444976076555 %train accuracy is : 99.3444976076555 %train accuracy is : 99.3444976076555 %train accuracy is : 99.3444976076555 %train accuracy is : 99.3444976076555 %\n",
      "test accuracy is : 99.66 %test accuracy is : 99.66 %test accuracy is : 99.66 %test accuracy is : 99.66 %test accuracy is : 99.66 %test accuracy is : 99.66 %test accuracy is : 99.66 %test accuracy is : 99.66 %test accuracy is : 99.66 %test accuracy is : 99.66 %test accuracy is : 99.66 %test accuracy is : 99.66 %test accuracy is : 99.66 %test accuracy is : 99.66 %test accuracy is : 99.66 %test accuracy is : 99.66 %test accuracy is : 99.66 %test accuracy is : 99.66 %test accuracy is : 99.66 %test accuracy is : 99.66 %test accuracy is : 99.66 %test accuracy is : 99.66 %test accuracy is : 99.66 %test accuracy is : 99.66 %test accuracy is : 99.66 %test accuracy is : 99.66 %test accuracy is : 99.66 %test accuracy is : 99.66 %test accuracy is : 99.66 %test accuracy is : 99.66 %test accuracy is : 99.66 %test accuracy is : 99.66 %test accuracy is : 99.66 %test accuracy is : 99.66 %test accuracy is : 99.66 %test accuracy is : 99.66 %test accuracy is : 99.66 %test accuracy is : 99.66 %test accuracy is : 99.66 %test accuracy is : 99.66 %test accuracy is : 99.66 %test accuracy is : 99.66 %test accuracy is : 99.66 %test accuracy is : 99.66 %test accuracy is : 99.66 %test accuracy is : 99.66 %test accuracy is : 99.66 %test accuracy is : 99.66 %test accuracy is : 99.66 %test accuracy is : 99.66 %test accuracy is : 99.66 %test accuracy is : 99.66 %test accuracy is : 99.66 %test accuracy is : 99.66 %test accuracy is : 99.66 %test accuracy is : 99.66 %test accuracy is : 99.66 %test accuracy is : 99.66 %test accuracy is : 99.66 %test accuracy is : 99.66 %test accuracy is : 99.66 %test accuracy is : 99.66 %test accuracy is : 99.66 %test accuracy is : 99.66 %test accuracy is : 99.66 %test accuracy is : 99.66 %test accuracy is : 99.66 %test accuracy is : 99.66 %test accuracy is : 99.66 %test accuracy is : 99.66 %test accuracy is : 99.66 %test accuracy is : 99.66 %test accuracy is : 99.66 %test accuracy is : 99.66 %test accuracy is : 99.66 %test accuracy is : 99.66 %test accuracy is : 99.66 %test accuracy is : 99.66 %test accuracy is : 99.66 %test accuracy is : 99.66 %test accuracy is : 99.66 %test accuracy is : 99.66 %test accuracy is : 99.66 %test accuracy is : 99.66 %test accuracy is : 99.66 %test accuracy is : 99.66 %test accuracy is : 99.66 %test accuracy is : 99.66 %test accuracy is : 99.66 %test accuracy is : 99.66 %test accuracy is : 99.66 %test accuracy is : 99.66 %test accuracy is : 99.66 %test accuracy is : 99.66 %test accuracy is : 99.66 %test accuracy is : 99.66 %test accuracy is : 99.66 %test accuracy is : 99.66 %test accuracy is : 99.66 %test accuracy is : 99.66 %\n"
     ]
    }
   ],
   "source": [
    "d = model_lg(train_x, train_y_original, test_x, test_y_original, no_of_iteration=1000, learning_rate=0.05, print_cost=True)"
   ]
  },
  {
   "cell_type": "code",
   "execution_count": null,
   "metadata": {},
   "outputs": [],
   "source": []
  }
 ],
 "metadata": {
  "kernelspec": {
   "display_name": "Python 3",
   "language": "python",
   "name": "python3"
  },
  "language_info": {
   "codemirror_mode": {
    "name": "ipython",
    "version": 3
   },
   "file_extension": ".py",
   "mimetype": "text/x-python",
   "name": "python",
   "nbconvert_exporter": "python",
   "pygments_lexer": "ipython3",
   "version": "3.5.2"
  }
 },
 "nbformat": 4,
 "nbformat_minor": 2
}
